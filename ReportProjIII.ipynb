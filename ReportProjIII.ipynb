{
 "cells": [
  {
   "cell_type": "markdown",
   "metadata": {},
   "source": [
    "# Molecular Simulations (0351-4057) Final Assignment"
   ]
  },
  {
   "cell_type": "markdown",
   "metadata": {},
   "source": [
    "Yotam Gomeh - 323823971 \\\n",
    "Yehonatan Barda - 327569174"
   ]
  },
  {
   "cell_type": "markdown",
   "metadata": {},
   "source": [
    "### Question 1\n",
    "\n",
    "We chose to implement Path Integral Molecular Dymanics (PIMD) and Path Integral Monte Carlo (PIMC).\n",
    "\n",
    "### Question 2\n",
    "\n",
    "The standart Molecular Dynamics (MD) simulations that we have conducted up until now, fail to capture quantum effetcs that are wished to be described in certain simulated systems. Moreover, complex quantum systems cannot be solved analytically and are very hard to be directly simulated since it involves solving numerically a highly complex partial differential equation which holds many degrees of freedom.\n",
    "\n",
    "### Question 3\n",
    "\n",
    "The PIMD formalism takes adventage of the fact that the quantum propagator\n",
    "$$\n",
    "U(\\vec{x},t)=\\exp\\left(-\\frac{i\\hat{\\mathcal{H}}(\\vec{x})t}{\\hbar}\\right)\n",
    "$$\n",
    "and the cannonical partition funtion\n",
    "$$\n",
    "Z=\\text{Tr}\\left\\{e^{-\\beta\\hat{\\mathcal{H}}}\\right\\}\n",
    "$$\n",
    "with $\\beta\\equiv\\frac{it}{\\hbar}$, the classical cannonical partition function is obtained by taking the trace of the quantum propagator.\n",
    "This allows for a relativley easy mapping of quantum systems onto classical ones.\n",
    "In order to obtain expectation values of the quantum system in the position basis with the PIMD method we need to calculate\n",
    "$$\n",
    "\\langle\\hat{A}\\rangle=\\frac{1}{Z}\\text{Tr}\\left\\{\\hat{A}e^{-\\beta\\hat{\\mathcal{H}}}\\right\\}=\\frac{1}{Z}\\int dx\\langle x|\\hat{A}e^{-\\beta\\hat{\\mathcal{H}}}|x\\rangle\n",
    "$$"
   ]
  }
 ],
 "metadata": {
  "kernelspec": {
   "display_name": "Python 3",
   "language": "python",
   "name": "python3"
  },
  "language_info": {
   "name": "python",
   "version": "3.11.5"
  }
 },
 "nbformat": 4,
 "nbformat_minor": 2
}
