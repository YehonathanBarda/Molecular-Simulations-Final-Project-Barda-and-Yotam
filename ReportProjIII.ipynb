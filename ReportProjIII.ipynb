{
 "cells": [
  {
   "cell_type": "markdown",
   "metadata": {},
   "source": [
    "# Molecular Simulations (0351-4057) Final Assignment"
   ]
  },
  {
   "cell_type": "markdown",
   "metadata": {},
   "source": [
    "Yotam Gomeh - 323823971 \\\n",
    "Yehonatan Barda - 327569174"
   ]
  },
  {
   "cell_type": "markdown",
   "metadata": {},
   "source": [
    "### Question 1\n",
    "\n",
    "We chose to implement Path Integral Molecular Dymanics (PIMD) and Path Integral Monte Carlo (PIMC).\n",
    "\n",
    "### Question 2\n",
    "\n",
    "The standart Molecular Dynamics (MD) simulations that we have conducted up until now, fail to capture quantum effetcs that are wished to be described in certain simulated systems. Moreover, complex quantum systems cannot be solved analytically and are very hard to be directly simulated since it involves solving numerically a highly complex partial differential equation which holds many degrees of freedom.\n",
    "\n",
    "### Question 3\n",
    "\n",
    "The PIMD formalism states that when a particle evolves unobserved from point $x$ to $ x ^\\prime$, the particle follows all possible path between $x$ and $x^\\prime$ simultaneously and the total amplitude for the particle at $x^\\prime$ at time $t$ is the sum of the amplitude associated with all possible paths between x and x′.\n",
    "\n",
    "The amplitude of a particle that started at point x after time t at point $x^\\prime$ is given by the matrix element of the propagator (in the possiton base):\n",
    "\n",
    "$$\n",
    "A= \\left\\langle x^\\prime  \\right| \\hat{U} (t) \\left|x\\right\\rangle  =\\left\\langle x^\\prime  \\right| e^{-i\\mathcal{\\hat{H}t/h}} \\left|x\\right\\rangle \\equiv U\\left(x,x^\\prime,t \\right)\n",
    "$$\n",
    "___\n",
    "For free space there are infinitely many possible paths therefore, the sum becomes an integral and the amplitued after time t at point $x^\\prime$ with is:\n",
    "\n",
    "$$\n",
    "\\langle x^\\prime | \\Psi (t) \\rangle = \\int dx \\left\\langle x^\\prime  \\right| e^{-i\\mathcal{\\hat{H}t/h}} \\left|x\\right\\rangle \\Psi (x,t=0)\n",
    "$$\n",
    "___\n",
    "By setting $\\beta= it/ \\hbar$ it is clear that we can obetin the propagator from the canonical density matrix:\n",
    "$$\n",
    "\\hat{\\rho}(\\beta) = \\exp(-\\beta \\hat{\\mathcal{H}}) \\Rightarrow \\hat{U} = \\hat{\\rho}(it/\\hbar)\n",
    "$$\n",
    "____\n",
    "\n",
    "it can be shown that the canonical density matrix elemnt is given by:\n",
    "\n",
    "$$\n",
    "\\rho \\left(x^\\prime , x, \\beta \\right) \\equiv \\left\\langle x^\\prime  \\right| e^{-\\beta\\mathcal{\\hat{H}}} \\left|x\\right\\rangle = \\lim _{P \\to \\infty} \\left(\\frac{mP}{2 \\pi \\beta \\hbar ^2}\\right) ^{P/2} \\int dx_2 \\ldots dx_P \\times \\exp \\left\\{ -\\frac{1}{\\hbar} \\sum_{k=1}^{P} \\left[ \\frac{mP}{2\\beta \\hbar} (x_{k+1} - x_k)^2 + \\frac{\\beta \\hbar}{2P} \\left( U(x_{k+1} + U(x_k)) \\right) \\right] \\right\\} \\Bigg|^{x_{P+1} = x^\\prime}_{x_1 = x}\n",
    "$$\n",
    "___\n",
    "The canonical partion function can be caluletded (רפרנס):\n",
    "$$\n",
    "Z = \\text{Tr}\\left\\{e^{-\\beta\\hat{\\mathcal{H}}}\\right\\} = \\lim _{P \\to \\infty} \\left(\\frac{mP}{2 \\pi \\beta \\hbar ^2}\\right) ^{P/2} \\int _{D(L)} dx_1 \\ldots dx_P \\times \\exp \\left\\{ -\\frac{1}{\\hbar} \\sum_{k=1}^{P} \\left[ \\frac{mP}{2\\beta \\hbar} (x_{k+1} - x_k)^2 + \\frac{\\beta \\hbar}{P} U(x_k) \\right] \\right\\} \\Bigg|_{x_{P+1} = x_1}\n",
    "$$\n",
    "which is equvilant to a system of $P \\to \\infty$ \"beads\" conected in a ring via springs with a given frequency $\\omega _P \\equiv \\sqrt{P}/\\beta\\hbar$ and with external potenital $\\frac{1}{P}U(x)$\n",
    "\n",
    "\n",
    "\n",
    "\n",
    "\n",
    "The PIMD formalism takes adventage of the fact that the quantum propagator\n",
    "$$\n",
    "\\hat{U}(t)=\\exp\\left(-\\frac{i\\hat{\\mathcal{H}}t}{\\hbar}\\right)\n",
    "$$\n",
    "and the cannonical partition funtion\n",
    "$$\n",
    "Z=\\text{Tr}\\left\\{e^{-\\beta\\hat{\\mathcal{H}}}\\right\\}\n",
    "$$\n",
    "with $\\beta\\equiv\\frac{it}{\\hbar}$, the classical cannonical partition function is obtained by taking the trace of the quantum propagator.\n",
    "This allows for a relativley easy mapping of quantum systems onto classical ones.\n",
    "In order to obtain expectation values of the quantum system in the position basis with the PIMD method we need to calculate\n",
    "$$\n",
    "\\langle\\hat{A}\\rangle=\\frac{1}{Z}\\text{Tr}\\left\\{\\hat{A}e^{-\\beta\\hat{\\mathcal{H}}}\\right\\}=\\frac{1}{Z}\\int dx\\langle x|\\hat{A}e^{-\\beta\\hat{\\mathcal{H}}}|x\\rangle\n",
    "$$\n",
    "\n",
    "להוסיף - חישוב ערכי תצפית\n",
    "אלגוריתם סימולציה\n",
    "\n",
    "### Question 4\n",
    "\n",
    "Althought PIMD provides a gateway for conducting quantum simulations using classic MD, it holds several limitations:\n",
    "1. Computational Cost - PIMD requires a large number of beads to accurately simulate quantum effects, especially at low temperatures. This increases the dimensionality of the system and requires significant computational resources.\n",
    "2. Quantum Dynamics: PIMD is used for sampling the equilibrium properties of quantum systems, and it does not provide accurate information about the real-time quantum dynamics of particles.\n",
    "\n",
    "### Question 5\n",
    "\n",
    "We have no idea."
   ]
  }
 ],
 "metadata": {
  "kernelspec": {
   "display_name": "Python 3",
   "language": "python",
   "name": "python3"
  },
  "language_info": {
   "name": "python",
   "version": "3.11.5"
  }
 },
 "nbformat": 4,
 "nbformat_minor": 2
}
